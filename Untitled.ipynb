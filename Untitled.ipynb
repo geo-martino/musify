{
 "cells": [
  {
   "cell_type": "code",
   "execution_count": 1,
   "id": "4514f8f3-bf4d-4008-af06-cac4daba7ed8",
   "metadata": {},
   "outputs": [],
   "source": [
    "%load_ext autoreload\n",
    "%autoreload 2"
   ]
  },
  {
   "cell_type": "code",
   "execution_count": 17,
   "id": "efc8b473-ad78-4693-8591-9c7d968684d9",
   "metadata": {},
   "outputs": [
    {
     "name": "stdout",
     "output_type": "stream",
     "text": [
      "\n",
      "\n",
      "----------------------------------------------------------------------------------------\n",
      "\n",
      "Access token found. Loading stored access token.\n",
      "\n",
      "----------------------------------------------------------------------------------------\n",
      "\n"
     ]
    }
   ],
   "source": [
    "from main import Main\n",
    "\n",
    "main = Main()\n",
    "headers = main.auth()"
   ]
  },
  {
   "cell_type": "code",
   "execution_count": null,
   "id": "ebf73685-2b6a-40f2-8389-12f15d4570fd",
   "metadata": {},
   "outputs": [
    {
     "data": {
      "application/vnd.jupyter.widget-view+json": {
       "model_id": "",
       "version_major": 2,
       "version_minor": 0
      },
      "text/plain": [
       "Loading library:   0%|          | 0/2712 [00:00<?, ?songs/s]"
      ]
     },
     "metadata": {},
     "output_type": "display_data"
    },
    {
     "name": "stdout",
     "output_type": "stream",
     "text": [
      "Importing locally stored URIs...\u001b[92m Done. Imported 2684 URIs \u001b[0m\n"
     ]
    },
    {
     "data": {
      "application/vnd.jupyter.widget-view+json": {
       "model_id": "",
       "version_major": 2,
       "version_minor": 0
      },
      "text/plain": [
       "Searching:   0%|          | 0/119 [00:00<?, ?groups/s]"
      ]
     },
     "metadata": {},
     "output_type": "display_data"
    },
    {
     "data": {
      "application/vnd.jupyter.widget-view+json": {
       "model_id": "3becaa1b3e4d429081c913cedaeb1a7a",
       "version_major": 2,
       "version_minor": 0
      },
      "text/plain": [
       "Adding to Spotify:   0%|          | 0/119 [00:00<?, ?playlists/s]"
      ]
     },
     "metadata": {},
     "output_type": "display_data"
    }
   ],
   "source": [
    "main.get_missing_uri(refresh=False, start=\"My Generation - The Very Best Of The Who\", add_back=True)"
   ]
  },
  {
   "cell_type": "code",
   "execution_count": null,
   "id": "94f5d818-b80d-45c6-8119-49bf51f59379",
   "metadata": {},
   "outputs": [],
   "source": []
  },
  {
   "cell_type": "code",
   "execution_count": null,
   "id": "f66e348b-b858-49fb-8c4e-8ea7fbf74b5a",
   "metadata": {},
   "outputs": [],
   "source": []
  }
 ],
 "metadata": {
  "kernelspec": {
   "display_name": "Python 3",
   "language": "python",
   "name": "python3"
  },
  "language_info": {
   "codemirror_mode": {
    "name": "ipython",
    "version": 3
   },
   "file_extension": ".py",
   "mimetype": "text/x-python",
   "name": "python",
   "nbconvert_exporter": "python",
   "pygments_lexer": "ipython3",
   "version": "3.9.5"
  }
 },
 "nbformat": 4,
 "nbformat_minor": 5
}
