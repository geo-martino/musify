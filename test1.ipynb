{
 "cells": [
  {
   "cell_type": "code",
   "execution_count": null,
   "id": "4514f8f3-bf4d-4008-af06-cac4daba7ed8",
   "metadata": {},
   "outputs": [],
   "source": [
    "%load_ext autoreload\n",
    "%autoreload 2"
   ]
  },
  {
   "cell_type": "code",
   "execution_count": null,
   "id": "efc8b473-ad78-4693-8591-9c7d968684d9",
   "metadata": {},
   "outputs": [],
   "source": [
    "from main import Main\n",
    "\n",
    "main = Main()\n",
    "headers = main.auth()"
   ]
  },
  {
   "cell_type": "code",
   "execution_count": null,
   "id": "ebf73685-2b6a-40f2-8389-12f15d4570fd",
   "metadata": {},
   "outputs": [],
   "source": [
    "main.get_missing_uri(refresh=False, start=\"Out To Sea + Reverie EPs\", add_back=True)"
   ]
  }
 ],
 "metadata": {
  "kernelspec": {
   "display_name": "Python 3",
   "language": "python",
   "name": "python3"
  },
  "language_info": {
   "codemirror_mode": {
    "name": "ipython",
    "version": 3
   },
   "file_extension": ".py",
   "mimetype": "text/x-python",
   "name": "python",
   "nbconvert_exporter": "python",
   "pygments_lexer": "ipython3",
   "version": "3.9.5"
  }
 },
 "nbformat": 4,
 "nbformat_minor": 5
}
