{
 "cells": [
  {
   "cell_type": "code",
   "execution_count": 1,
   "id": "1575a04f-cd0f-47bb-9f4e-a6001e0da7b4",
   "metadata": {},
   "outputs": [],
   "source": [
    "%load_ext autoreload\n",
    "%autoreload 2"
   ]
  },
  {
   "cell_type": "code",
   "execution_count": 2,
   "id": "7576a00a-1684-476c-b819-f5ab3d400dbe",
   "metadata": {},
   "outputs": [],
   "source": [
    "from main import Main\n",
    "from m3u2spotify.authorise import Authorise\n",
    "from m3u2spotify.endpoints import Endpoints\n",
    "from m3u2spotify.search import Search\n",
    "from m3u2spotify.spotify import Spotify"
   ]
  },
  {
   "cell_type": "code",
   "execution_count": 3,
   "id": "f06cc91d-70d4-4571-85c2-e2c516488e25",
   "metadata": {},
   "outputs": [
    {
     "name": "stdout",
     "output_type": "stream",
     "text": [
      "\n"
     ]
    }
   ],
   "source": [
    "main = Main()\n",
    "headers = main.auth()"
   ]
  },
  {
   "cell_type": "code",
   "execution_count": 32,
   "id": "eb66c3ca-0a29-4568-8fe8-9d96f1f6a2d2",
   "metadata": {
    "collapsed": true,
    "jupyter": {
     "outputs_hidden": true
    },
    "tags": []
   },
   "outputs": [
    {
     "name": "stdin",
     "output_type": "stream",
     "text": [
      "link:  https://open.spotify.com/album/5rsJCTSppss2cccM8a9V0u?si=Y2s_r48kSJG6EegcZ6jonw&dl_branch=1\n"
     ]
    },
    {
     "name": "stdout",
     "output_type": "stream",
     "text": [
      "\t\"Zanarkand\": \"spotify:track:5NP9bhvIp2XGY3Xl0ICAub\",\n",
      "\t\"Prelude\": \"spotify:track:4XwZznM7E2nEVDPuFm6ppL\",\n",
      "\t\"Tidus's Theme\": \"spotify:track:1C9rxA4soaPjAEECwWVVZC\",\n",
      "\t\"Otherworld\": \"spotify:track:6WGtQKmXCKzvPAFtXOGmNv\",\n",
      "\t\"Run !!\": \"spotify:track:1jcYcW06CNvqtWoZrd8LdV\",\n",
      "\t\"This Is Your Story\": \"spotify:track:0rxs6IUm0NeyvIDn9vhPnZ\",\n",
      "\t\"Creep\": \"spotify:track:1dzOm8IX4Fnnj4UyxaNvQG\",\n",
      "\t\"Battle Theme\": \"spotify:track:5TU2tVnNNCllx1hbXjmJ0B\",\n",
      "\t\"Victory Fanfare\": \"spotify:track:6XZUmXaY27j8SITdXs35xk\",\n",
      "\t\"Game Over\": \"spotify:track:7JreqTPWxeTbXdKvgLqcJf\",\n",
      "\t\"Out Of The Frying Pan\": \"spotify:track:3kQYrl55fvVQcSnTO3cIOu\",\n",
      "\t\"Leap In The Dark\": \"spotify:track:4NtM085f0j4tZxHoWPoXpk\",\n",
      "\t\"Underwater Ruins\": \"spotify:track:30XUdUrjsgd2ymHAxdIhPO\",\n",
      "\t\"Oui Are Al Bhed\": \"spotify:track:1jgRM2tbVO8dd5vO0aYe3m\",\n",
      "\t\"Enemy Attack\": \"spotify:track:7oQxntBpX9Fh6kO8njQpke\",\n",
      "\t\"The Blitzers\": \"spotify:track:2Plp2G4EfOp5Y0pU0TI1En\",\n",
      "\t\"Besaid\": \"spotify:track:6Q4nNB7exf30TTt2SdhPAb\",\n",
      "\t\"Spira Unplugged\": \"spotify:track:1ZpFAnggGRjqXbDynGp7AL\",\n",
      "\t\"Hum Of The Fayth\": \"spotify:track:6F3WgqFjISqmhKoHop4Z7Z\",\n",
      "\t\"Phantoms\": \"spotify:track:58hNR7JaOUY5TihJpm5DUa\",\n",
      "\t\"The Trials\": \"spotify:track:5KZilTIolQG5ij9kFmOVO8\",\n",
      "\t\"Hymn\": \"spotify:track:6CzF54lVyDZEhICvoSyZUq\",\n",
      "\t\"The Summoning\": \"spotify:track:2P1d8opZQrSYlX13DwjC95\",\n",
      "\t\"Braska's Daughter\": \"spotify:track:5EhddU1uhwabPJJFRTcYgb\",\n",
      "\t\"Good Night\": \"spotify:track:1HNlp9c9cuJTRGOKnTwLO9\",\n",
      "\t\"Yuna's Theme\": \"spotify:track:4JkoAb2h5M8gSi7HLWaD34\",\n",
      "\t\"Movement In Green\": \"spotify:track:7BeOzMA5ym5UgFHHclLNhe\",\n",
      "\t\"The Sending\": \"spotify:track:4vSS638PylahDcE3IWp4Rb\",\n",
      "\t\"Calm Before The Storm\": \"spotify:track:3fuHB4VSGd3DPq7sKsI6yE\",\n",
      "\t\"Hymn\": \"spotify:track:71QMZbCfeh5Wgp9BRakMA6\",\n",
      "\t\"Luca\": \"spotify:track:0ZWbnEsONhMZI7gpKOFMcu\",\n",
      "\t\"Grand Maester Mika\": \"spotify:track:4xn0WAU1jvv3YO4UyfHWlj\",\n",
      "\t\"Decision On The Dock\": \"spotify:track:6xzd9oBlx30u2dNiesE3Sp\",\n",
      "\t\"The Splendid Performance\": \"spotify:track:4YqYoLCYIhagJVwVN6fWR5\",\n",
      "\t\"Face off\": \"spotify:track:2dNrI4UYM73OYLXkeKZpx5\",\n",
      "\t\"Blitz Off !\": \"spotify:track:7obXT5zsNToVPIuHx5rHyw\",\n",
      "\t\"Auron's Theme\": \"spotify:track:0f9CBU81AcH0AdqSqMSrZm\",\n",
      "\t\"Mi'ihen Highroad\": \"spotify:track:5mxdKvWHhNmJqnrqQwWIyl\",\n",
      "\t\"Chocobo Jam\": \"spotify:track:2FwEEtqSs8jefefBhrjWSF\",\n",
      "\t\"The Travel Agency\": \"spotify:track:6L60yJvooC7COzb6oxCPNK\",\n",
      "\t\"They May Pass\": \"spotify:track:6AnnYi2BQJSOZk82bpRRaj\",\n",
      "\t\"Seymour's Theme\": \"spotify:track:0ug0rqiPRcmHifpyPItmZh\",\n",
      "\t\"Twilight\": \"spotify:track:2v1CABRoncUzdZGZSCCjmS\",\n",
      "\t\"Djose Temple\": \"spotify:track:2xv4Obupr7EQTJPSrAaUo1\",\n",
      "\t\"Hymn\": \"spotify:track:73NGqQm3Fxodc8uYQRhPDc\",\n",
      "\t\"Ridess The Shoopuf ?\": \"spotify:track:2DR1TfRCXp7B1Csn6ASsGT\",\n",
      "\t\"Rikku's Theme\": \"spotify:track:6v1w7196Hr2nF2NtuXx1X3\",\n",
      "\t\"Guadosalam\": \"spotify:track:7gXSdBEBL0jw3BnKuckKub\",\n",
      "\t\"Thunder Plains\": \"spotify:track:3uRnFt78Obcy4Y1mQ4oCEE\",\n",
      "\t\"Jecht's Theme\": \"spotify:track:5PhBCnQEVHGSl6IVe0fw3C\",\n",
      "\t\"Macalania Woods\": \"spotify:track:3aSRlnZBth5LhEI9mmYi9k\",\n",
      "\t\"The Void\": \"spotify:track:0CCssy8HADb2bLp8GvFu23\",\n",
      "\t\"The Temple Players\": \"spotify:track:2HnVNi0lIdc02KeSLobKfW\",\n",
      "\t\"Seymour's Ambition\": \"spotify:track:3tteTZHsGpSjhaZQ35I1m8\",\n",
      "\t\"Hymn\": \"spotify:track:6pQlQ0ohi8I8DbBKpao7o3\",\n",
      "\t\"Pursuit\": \"spotify:track:3xetY7FoyRw3YUBKSpQdAr\",\n",
      "\t\"The Burning Sands\": \"spotify:track:13LBAiYw34k2DZ66pjwot7\",\n",
      "\t\"Peril\": \"spotify:track:1sIwhEvDrmHbQeu0MOuZu0\",\n",
      "\t\"The Truth Revealed\": \"spotify:track:053RdZfYpllv0sbNFKZG5M\",\n",
      "\t\"Launch\": \"spotify:track:5yhikmDJLZtva5CCFN2zaM\",\n",
      "\t\"The Wedding\": \"spotify:track:1NorrWH3X8TZniVu5xYb9I\",\n",
      "\t\"Assault\": \"spotify:track:2zEsA5nj5Y4UnjbV2ia45n\",\n",
      "\t\"Tragedy\": \"spotify:track:6rhrqDSDALhKq2YOW5XATT\",\n",
      "\t\"Believe\": \"spotify:track:3JWyveeoGl6tkRsTASktzU\",\n",
      "\t\"Via Purifico\": \"spotify:track:5rRLEheYbHMAtXSY33DkGQ\",\n",
      "\t\"Hymn\": \"spotify:track:25y5N4xwHLzO68CqHMGTjm\",\n",
      "\t\"Moment of Truth\": \"spotify:track:7GtJ9pm6sY6WxcCPuVC614\",\n",
      "\t\"Patricide\": \"spotify:track:3XmKmMscHLtLoV0lTbK2n5\",\n",
      "\t\"SUTEKI DA NE (Isn't It Wonderful?)\": \"spotify:track:3H39xh0GOrFkp0cjwazaXx\",\n",
      "\t\"Yuna's Decision\": \"spotify:track:3tHc3CDmQ58fbMuiDPl9iJ\",\n",
      "\t\"Lulu's Theme\": \"spotify:track:0acWxqkm4MmEcQnwNpYM6Q\",\n",
      "\t\"Bravely Forward\": \"spotify:track:7KuONwREfzTnGYweulApMZ\",\n",
      "\t\"Hymn\": \"spotify:track:6YoIrnWRBtptsH6PPKjDBu\",\n",
      "\t\"Servants of the Mountain\": \"spotify:track:0d3mX4cZEucXC2TNYtGpix\",\n",
      "\t\"Hymn\": \"spotify:track:3xl2A3P3Iax0Ty4ggIO7g8\",\n",
      "\t\"Wandering\": \"spotify:track:4UkgouHQ4ctD2l2nFZuH1N\",\n",
      "\t\"A Fleeting Dream\": \"spotify:track:51REyltyZa0nyob7Vpqomd\",\n",
      "\t\"Hymn\": \"spotify:track:14zQ6smfrVFdIo3S04Osuu\",\n",
      "\t\"Challenge\": \"spotify:track:4uC6ASmJAbLsnQ5ki6Yz43\",\n",
      "\t\"Beyond The Darkness\": \"spotify:track:1zffsZ5IqMGvWasmxKrmn1\",\n",
      "\t\"Gloom\": \"spotify:track:1H6tlfLK7SO0WJbTJ9D4V0\",\n",
      "\t\"Hymn\": \"spotify:track:3c7Otd5LuwyzrFbNT3QuKH\",\n",
      "\t\"The Unsent Laugh\": \"spotify:track:0uYlmo1wjY2FSBca4z63JB\",\n",
      "\t\"Fight With Seymour\": \"spotify:track:5gzre3UAggakT1LBdmJLSk\",\n",
      "\t\"Hymn\": \"spotify:track:2SDchSgFpn1H7OOvB2KKrp\",\n",
      "\t\"A Contest Of Aeons\": \"spotify:track:2cCuqkuf3i9m1UC3hW8zp6\",\n",
      "\t\"Final Battle\": \"spotify:track:14RwaDTnlcaK0zZGcVhiy6\",\n",
      "\t\"Ending Theme\": \"spotify:track:5UkccMx1Y0ExLemNixIwSD\",\n",
      "\t\"SUTEKI DA NE (Isn't It Wonderful?)\": \"spotify:track:3Y9niDtvTxk0efj8IUQb9z\",\n"
     ]
    }
   ],
   "source": [
    "import requests\n",
    "\n",
    "playlist = input('link: ')\n",
    "playlist = f\"{main.convert(playlist, get='api')}/tracks\"\n",
    "r = {'next': playlist}\n",
    "\n",
    "while r['next']:\n",
    "    r = requests.get(r['next'], headers=main.headers).json()\n",
    "    for track in r['items']:\n",
    "        print(f\"\\t\\\"{track['name'].split(' - ')[0]}\\\": \\\"{track['uri']}\\\",\")"
   ]
  }
 ],
 "metadata": {
  "kernelspec": {
   "display_name": "Python 3",
   "language": "python",
   "name": "python3"
  },
  "language_info": {
   "codemirror_mode": {
    "name": "ipython",
    "version": 3
   },
   "file_extension": ".py",
   "mimetype": "text/x-python",
   "name": "python",
   "nbconvert_exporter": "python",
   "pygments_lexer": "ipython3",
   "version": "3.9.5"
  }
 },
 "nbformat": 4,
 "nbformat_minor": 5
}
