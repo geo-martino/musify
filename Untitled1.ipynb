{
 "cells": [
  {
   "cell_type": "code",
   "execution_count": 58,
   "id": "7576a00a-1684-476c-b819-f5ab3d400dbe",
   "metadata": {},
   "outputs": [
    {
     "name": "stdout",
     "output_type": "stream",
     "text": [
      "\n",
      "\n",
      "----------------------------------------------------------------------------------------\n",
      "\n",
      "Access token found. Loading stored access token.\n",
      "Refreshing access token... \u001b[92mDone\u001b[0m\n",
      "\n",
      "----------------------------------------------------------------------------------------\n",
      "\n"
     ]
    }
   ],
   "source": [
    "from main import Main\n",
    "\n",
    "main = Main()\n",
    "headers = main.auth()"
   ]
  },
  {
   "cell_type": "code",
   "execution_count": 74,
   "id": "f1c867fb-3d16-45f1-a2a9-ebb6952da87e",
   "metadata": {},
   "outputs": [
    {
     "name": "stdin",
     "output_type": "stream",
     "text": [
      "link:  https://open.spotify.com/album/0bIXffBZFKL5bj7A2Whpm4?si=PEnOrCdfSNmPGxBRqBv1EA&dl_branch=1\n"
     ]
    },
    {
     "name": "stdout",
     "output_type": "stream",
     "text": [
      "0bIXffBZFKL5bj7A2Whpm4\n",
      "\t\"Overture\": \"spotify:track:6BVCXnUKFEuIKMggkFVH8a\",\n",
      "\t\"Scrooge\": \"spotify:track:7xdU07TVdbK1XJOiFkcH1X\",\n",
      "\t\"Room In Your Heart\": \"spotify:track:6EYeCTx9tDm0gRm7W8NLFb\",\n",
      "\t\"Good King Wenceslas\": \"spotify:track:65p4XP7DkX94TCbTQMpGP2\",\n",
      "\t\"One More Sleep ’til Christmas\": \"spotify:track:6nNHbIrWaGOyRm2xMoD5GB\",\n",
      "\t\"Marley and Marley\": \"spotify:track:2u0sdhSUMf0JgY1Hc7np4Y\",\n",
      "\t\"Christmas Past\": \"spotify:track:4qaUrl1rCdSUoWcpwEp3bd\",\n",
      "\t\"Chairman of The Board\": \"spotify:track:0NdRkJCkHDmVYfLxGP73gc\",\n",
      "\t\"Fozziwig's Party\": \"spotify:track:7M9VrFOKS1lC4lwW4hwfmP\",\n",
      "\t\"When Love is Gone\": \"spotify:track:0Qn3XGALilScC4fPf6RHB3\",\n",
      "\t\"It Feels Like Christmas\": \"spotify:track:2NzSAmFZWgOe3q17jOEots\",\n",
      "\t\"Christmas Scat\": \"spotify:track:3YTNjTqqhRDioGamOAP3o3\",\n",
      "\t\"Bless Us All\": \"spotify:track:7LaoCUikJDSPNMpqGs6Awr\",\n",
      "\t\"Christmas Future\": \"spotify:track:6d5jAdE5BPpUFnqcWO3ffR\",\n",
      "\t\"Christmas Morning\": \"spotify:track:3GID4s7AqCNCWureohDnZ9\",\n",
      "\t\"Thankful Heart\": \"spotify:track:5bha8vGIy6f9Ph7t0nApno\",\n",
      "\t\"Finale – When Love Is Found/It Feels Like Christmas\": \"spotify:track:5RaM0JLFpup1TK0hcFVj7w\",\n",
      "\t\"When Love Is Gone\": \"spotify:track:3YXJYJGpVKXBTUz38l6DWc\",\n"
     ]
    }
   ],
   "source": [
    "import requests\n",
    "    \n",
    "playlist_id = input('link: ').split('/')[-1].split('?')[0]\n",
    "print(playlist_id)\n",
    "r = requests.get(f'https://api.spotify.com/v1/albums/{playlist_id}/tracks', headers=main.headers).json()\n",
    "for track in r['items']:\n",
    "    print(f\"\\t\\\"{track['name'].split(' - ')[0]}\\\": \\\"{track['uri']}\\\",\")\n",
    "\n",
    "while r['next']:\n",
    "    r = requests.get(r['next'], headers=main.headers).json()\n",
    "    for track in r['items']:\n",
    "        print(f\"\\t\\\"{track['name'].split(' - ')[0]}\\\": \\\"{track['uri']}\\\",\")\n",
    " "
   ]
  },
  {
   "cell_type": "code",
   "execution_count": 24,
   "id": "5ed82551-ce69-4a5c-8e3e-99893e5e659e",
   "metadata": {},
   "outputs": [
    {
     "data": {
      "text/plain": [
       "['a']"
      ]
     },
     "execution_count": 24,
     "metadata": {},
     "output_type": "execute_result"
    }
   ],
   "source": [
    "ls = ['a']\n",
    "ls.extend([])\n",
    "ls"
   ]
  },
  {
   "cell_type": "code",
   "execution_count": 65,
   "id": "b273efb2-cfb5-4e80-81b8-61b3cbf42586",
   "metadata": {},
   "outputs": [
    {
     "data": {
      "text/plain": [
       "{}"
      ]
     },
     "execution_count": 65,
     "metadata": {},
     "output_type": "execute_result"
    }
   ],
   "source": [
    "{k.lower().strip() :v for k, v in {}.items()}"
   ]
  },
  {
   "cell_type": "code",
   "execution_count": null,
   "id": "8f55e235-0b39-4887-b47e-c721f8c30887",
   "metadata": {},
   "outputs": [],
   "source": []
  }
 ],
 "metadata": {
  "kernelspec": {
   "display_name": "Python 3",
   "language": "python",
   "name": "python3"
  },
  "language_info": {
   "codemirror_mode": {
    "name": "ipython",
    "version": 3
   },
   "file_extension": ".py",
   "mimetype": "text/x-python",
   "name": "python",
   "nbconvert_exporter": "python",
   "pygments_lexer": "ipython3",
   "version": "3.9.5"
  }
 },
 "nbformat": 4,
 "nbformat_minor": 5
}
